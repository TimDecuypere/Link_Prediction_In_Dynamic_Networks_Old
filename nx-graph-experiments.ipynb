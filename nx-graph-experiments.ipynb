{
 "cells": [
  {
   "cell_type": "markdown",
   "metadata": {},
   "source": [
    "# NetworkX Random Graph Experiments\n",
    "---\n",
    "Run link prediction tests on various graph types:\n",
    "1. [Erdos-Renyi](https://networkx.github.io/documentation/networkx-1.10/reference/generated/networkx.generators.random_graphs.erdos_renyi_graph.html)\n",
    "2. [Watts-Strogatz](https://networkx.github.io/documentation/networkx-1.10/reference/generated/networkx.generators.random_graphs.watts_strogatz_graph.html)\n",
    "3. [Barabasi-Albert](https://networkx.github.io/documentation/networkx-1.11/reference/generated/networkx.generators.random_graphs.barabasi_albert_graph.html)\n",
    "4. [Powerlaw Cluster](https://networkx.github.io/documentation/networkx-1.10/reference/generated/networkx.generators.random_graphs.powerlaw_cluster_graph.html#networkx.generators.random_graphs.powerlaw_cluster_graph)\n",
    "5. [Stochastic Block Model](https://networkx.github.io/documentation/networkx-1.10/reference/generated/networkx.generators.community.random_partition_graph.html)"
   ]
  },
  {
   "cell_type": "code",
   "execution_count": 1,
   "metadata": {
    "collapsed": true
   },
   "outputs": [],
   "source": [
    "import networkx as nx\n",
    "import matplotlib.pyplot as plt\n",
    "import link_prediction_scores as lp\n",
    "import pickle\n",
    "\n",
    "RANDOM_SEED = 0"
   ]
  },
  {
   "cell_type": "markdown",
   "metadata": {},
   "source": [
    "### Create NetworkX Graphs"
   ]
  },
  {
   "cell_type": "code",
   "execution_count": 2,
   "metadata": {
    "collapsed": true
   },
   "outputs": [],
   "source": [
    "# Dictionary to store all nx graphs\n",
    "nx_graphs = {}\n",
    "\n",
    "# Small graphs\n",
    "N_SMALL = 200\n",
    "nx_graphs['er-small'] = nx.erdos_renyi_graph(n=N_SMALL, p=.02, seed=RANDOM_SEED) # Erdos-Renyi\n",
    "nx_graphs['ws-small'] = nx.watts_strogatz_graph(n=N_SMALL, k=5, p=.1, seed=RANDOM_SEED) # Watts-Strogatz\n",
    "nx_graphs['ba-small'] = nx.barabasi_albert_graph(n=N_SMALL, m=2, seed=RANDOM_SEED) # Barabasi-Albert\n",
    "nx_graphs['pc-small'] = nx.powerlaw_cluster_graph(n=N_SMALL, m=2, p=.02, seed=RANDOM_SEED) # Powerlaw Cluster\n",
    "nx_graphs['sbm-small'] = nx.random_partition_graph(sizes=[N_SMALL/10]*10, p_in=.1, p_out=.01, seed=RANDOM_SEED) # Stochastic Block Model\n",
    "\n",
    "# Larger graphs\n",
    "N_LARGE = 1000\n",
    "nx_graphs['er-large'] = nx.erdos_renyi_graph(n=N_LARGE, p=.01, seed=RANDOM_SEED) # Erdos-Renyi\n",
    "nx_graphs['ws-large'] = nx.watts_strogatz_graph(n=N_LARGE, k=3, p=.1, seed=RANDOM_SEED) # Watts-Strogatz\n",
    "nx_graphs['ba-large'] = nx.barabasi_albert_graph(n=N_LARGE, m=2, seed=RANDOM_SEED) # Barabasi-Albert\n",
    "nx_graphs['pc-large'] = nx.powerlaw_cluster_graph(n=N_LARGE, m=2, p=.02, seed=RANDOM_SEED) # Powerlaw Cluster\n",
    "nx_graphs['sbm-large'] = nx.random_partition_graph(sizes=[N_LARGE/10]*10, p_in=.05, p_out=.005, seed=RANDOM_SEED) # Stochastic Block Model"
   ]
  },
  {
   "cell_type": "code",
   "execution_count": 3,
   "metadata": {},
   "outputs": [],
   "source": [
    "# Remove isolates from random graphs\n",
    "for g_name, nx_g in nx_graphs.iteritems():\n",
    "    isolates = nx.isolates(nx_g)\n",
    "    if len(isolates) > 0:\n",
    "        for isolate_node in isolates:\n",
    "            nx_graphs[g_name].remove_node(isolate_node)"
   ]
  },
  {
   "cell_type": "markdown",
   "metadata": {},
   "source": [
    "### Run Link Prediction Tests"
   ]
  },
  {
   "cell_type": "code",
   "execution_count": 4,
   "metadata": {},
   "outputs": [
    {
     "name": "stdout",
     "output_type": "stream",
     "text": [
      "Current experiment:  nx-pc-large-0.25-hidden\n",
      "Current experiment:  nx-ws-small-0.25-hidden\n",
      "Current experiment:  nx-ba-large-0.25-hidden\n"
     ]
    },
    {
     "name": "stderr",
     "output_type": "stream",
     "text": [
      "/Users/lucashu/anaconda/envs/gae/lib/python2.7/site-packages/sklearn/manifold/spectral_embedding_.py:229: UserWarning: Graph is not fully connected, spectral embedding may not work as expected.\n",
      "  warnings.warn(\"Graph is not fully connected, spectral embedding\"\n"
     ]
    },
    {
     "name": "stdout",
     "output_type": "stream",
     "text": [
      "Current experiment:  nx-er-small-0.25-hidden\n",
      "Current experiment:  nx-pc-small-0.25-hidden\n",
      "Current experiment:  nx-sbm-large-0.25-hidden\n",
      "Current experiment:  nx-sbm-small-0.25-hidden\n",
      "Current experiment:  nx-er-large-0.25-hidden\n",
      "Current experiment:  nx-ws-large-0.25-hidden\n",
      "Current experiment:  nx-ba-small-0.25-hidden\n",
      "Current experiment:  nx-pc-large-0.5-hidden\n",
      "Current experiment:  nx-ws-small-0.5-hidden\n",
      "Current experiment:  nx-ba-large-0.5-hidden\n",
      "Current experiment:  nx-er-small-0.5-hidden\n",
      "Current experiment:  nx-pc-small-0.5-hidden\n",
      "Current experiment:  nx-sbm-large-0.5-hidden\n",
      "Current experiment:  nx-sbm-small-0.5-hidden\n",
      "Current experiment:  nx-er-large-0.5-hidden\n",
      "Current experiment:  nx-ws-large-0.5-hidden\n",
      "WARNING: not enough removable edges to perform full train-test split!\n",
      "Num. (test, val) edges requested: ( 400 ,  100 )\n",
      "Num. (test, val) edges returned: ( 400 ,  29 )\n",
      "Current experiment:  nx-ba-small-0.5-hidden\n",
      "Current experiment:  nx-pc-large-0.75-hidden\n",
      "WARNING: not enough removable edges to perform full train-test split!\n",
      "Num. (test, val) edges requested: ( 1297 ,  199 )\n",
      "Num. (test, val) edges returned: ( 1297 ,  36 )\n",
      "Current experiment:  nx-ws-small-0.75-hidden\n",
      "WARNING: not enough removable edges to perform full train-test split!\n",
      "Num. (test, val) edges requested: ( 260 ,  40 )\n",
      "Num. (test, val) edges returned: ( 260 ,  24 )\n",
      "Current experiment:  nx-ba-large-0.75-hidden\n",
      "WARNING: not enough removable edges to perform full train-test split!\n",
      "Num. (test, val) edges requested: ( 1297 ,  199 )\n",
      "Num. (test, val) edges returned: ( 1297 ,  24 )\n",
      "Current experiment:  nx-er-small-0.75-hidden\n",
      "WARNING: not enough removable edges to perform full train-test split!\n",
      "Num. (test, val) edges requested: ( 269 ,  41 )\n",
      "Num. (test, val) edges returned: ( 269 ,  32 )\n",
      "Current experiment:  nx-pc-small-0.75-hidden\n",
      "WARNING: not enough removable edges to perform full train-test split!\n",
      "Num. (test, val) edges requested: ( 257 ,  39 )\n",
      "Num. (test, val) edges returned: ( 257 ,  5 )\n",
      "Current experiment:  nx-sbm-large-0.75-hidden\n",
      "Current experiment:  nx-sbm-small-0.75-hidden\n",
      "WARNING: not enough removable edges to perform full train-test split!\n",
      "Num. (test, val) edges requested: ( 228 ,  35 )\n",
      "Num. (test, val) edges returned: ( 228 ,  4 )\n",
      "Current experiment:  nx-er-large-0.75-hidden\n",
      "Current experiment:  nx-ws-large-0.75-hidden\n",
      "WARNING: not enough removable edges to perform full train-test split!\n",
      "Num. (test, val) edges requested: ( 650 ,  100 )\n",
      "Num. (test, val) edges returned: ( 429 ,  0 )\n",
      "Current experiment:  nx-ba-small-0.75-hidden\n",
      "WARNING: not enough removable edges to perform full train-test split!\n",
      "Num. (test, val) edges requested: ( 257 ,  39 )\n",
      "Num. (test, val) edges returned: ( 257 ,  5 )\n"
     ]
    }
   ],
   "source": [
    "nx_results = {}\n",
    "FRAC_EDGES_HIDDEN = [0.25, 0.5, 0.75]\n",
    "NX_RESULTS_DIR = './results/nx-experiment-results.pkl'\n",
    "\n",
    "# Iterate over fractions of edges to hide\n",
    "for frac_hidden in FRAC_EDGES_HIDDEN:\n",
    "    val_frac = 0.1\n",
    "    test_frac = frac_hidden - val_frac\n",
    "    \n",
    "    # Iterate over each graph\n",
    "    for g_name, nx_g in nx_graphs.iteritems():\n",
    "        adj = nx.adjacency_matrix(nx_g)\n",
    "        \n",
    "        experiment_name = 'nx-{}-{}-hidden'.format(g_name, frac_hidden)\n",
    "        print \"Current experiment: \", experiment_name\n",
    "        \n",
    "        # Run all link prediction methods on current graph, store results\n",
    "        nx_results[experiment_name] = lp.calculate_all_scores(adj, \\\n",
    "                                                     test_frac=test_frac, val_frac=val_frac, \\\n",
    "                                                     random_state=RANDOM_SEED, verbose=0)\n",
    "        \n",
    "# Save experiment results\n",
    "with open(NX_RESULTS_DIR, 'wb') as f:\n",
    "    pickle.dump(nx_results, f)"
   ]
  },
  {
   "cell_type": "code",
   "execution_count": null,
   "metadata": {
    "collapsed": true
   },
   "outputs": [],
   "source": []
  }
 ],
 "metadata": {
  "kernelspec": {
   "display_name": "Python [conda env:gae]",
   "language": "python",
   "name": "conda-env-gae-py"
  },
  "language_info": {
   "codemirror_mode": {
    "name": "ipython",
    "version": 2
   },
   "file_extension": ".py",
   "mimetype": "text/x-python",
   "name": "python",
   "nbconvert_exporter": "python",
   "pygments_lexer": "ipython2",
   "version": "2.7.13"
  }
 },
 "nbformat": 4,
 "nbformat_minor": 2
}
