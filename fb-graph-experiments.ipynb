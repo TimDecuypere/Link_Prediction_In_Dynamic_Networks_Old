{
 "cells": [
  {
   "cell_type": "markdown",
   "metadata": {},
   "source": [
    "# Facebook Ego Graph Experiments\n",
    "---\n",
    "Run link prediction tests on all included Facebook ego networks"
   ]
  },
  {
   "cell_type": "code",
   "execution_count": null,
   "metadata": {
    "collapsed": true
   },
   "outputs": [],
   "source": [
    "import networkx as nx\n",
    "import matplotlib.pyplot as plt\n",
    "import pandas as pd\n",
    "import link_prediction_scores as lp\n",
    "import pickle\n",
    "\n",
    "RANDOM_SEED = 0"
   ]
  },
  {
   "cell_type": "markdown",
   "metadata": {},
   "source": [
    "### Load in FB Graphs"
   ]
  },
  {
   "cell_type": "code",
   "execution_count": null,
   "metadata": {
    "collapsed": true
   },
   "outputs": [],
   "source": [
    "FB_EGO_USERS = [0, 107, 1684, 1912, 3437, 348, 3980, 414, 686, 698]\n",
    "\n",
    "fb_graphs = {} # Dictionary to store all FB ego network graphs\n",
    "\n",
    "### ----- Read in all FB ego graphs ----- ###\n",
    "# Store graphs in dictionary as (adj, features) tuples\n",
    "for user in FB_EGO_USERS:\n",
    "    network_dir = './fb-processed/{0}-adj-feat.pkl'.format(user)\n",
    "    with open(network_dir, 'rb') as f:\n",
    "        adj, features = pickle.load(f)\n",
    "    \n",
    "    # Store in dict\n",
    "    fb_graphs[user] = (adj, features)\n",
    "    \n",
    "    \n",
    "### ----- Read in combined FB graph ----- ###\n",
    "combined_dir = './fb-processed/combined-adj-sparsefeat.pkl'\n",
    "with open(combined_dir, 'rb') as f:\n",
    "    adj, features = pickle.load(f)\n",
    "    fb_graphs['combined'] = (adj, features)"
   ]
  },
  {
   "cell_type": "markdown",
   "metadata": {},
   "source": [
    "### Run Link Prediction Tests"
   ]
  },
  {
   "cell_type": "code",
   "execution_count": null,
   "metadata": {},
   "outputs": [],
   "source": [
    "fb_results = {}\n",
    "FRAC_EDGES_HIDDEN = [0.25, 0.5, 0.75]\n",
    "FB_RESULTS_DIR = './results/fb-experiment-results.pkl'\n",
    "\n",
    "# Iterate over fractions of edges to hide\n",
    "for frac_hidden in FRAC_EDGES_HIDDEN:\n",
    "    val_frac = 0.1\n",
    "    test_frac = frac_hidden - val_frac\n",
    "    \n",
    "    # Iterate over each graph\n",
    "    for g_name, graph_tuple in fb_graphs.iteritems():\n",
    "        adj = graph_tuple[0]\n",
    "        feat = graph_tuple[1]\n",
    "        \n",
    "        experiment_name = 'fb-{}-{}-hidden'.format(g_name, frac_hidden)\n",
    "        print \"Current experiment: \", experiment_name\n",
    "        \n",
    "        # Run all link prediction methods on current graph, store results\n",
    "        fb_results[experiment_name] = lp.calculate_all_scores(adj, feat, \\\n",
    "                                                     test_frac=test_frac, val_frac=val_frac, \\\n",
    "                                                     random_state=RANDOM_SEED, verbose=0)\n",
    "        \n",
    "# Save experiment results\n",
    "with open(FB_RESULTS_DIR, 'wb') as f:\n",
    "    pickle.dump(fb_results, f)"
   ]
  },
  {
   "cell_type": "code",
   "execution_count": null,
   "metadata": {
    "collapsed": true
   },
   "outputs": [],
   "source": []
  }
 ],
 "metadata": {
  "kernelspec": {
   "display_name": "Python [conda env:gae]",
   "language": "python",
   "name": "conda-env-gae-py"
  },
  "language_info": {
   "codemirror_mode": {
    "name": "ipython",
    "version": 2
   },
   "file_extension": ".py",
   "mimetype": "text/x-python",
   "name": "python",
   "nbconvert_exporter": "python",
   "pygments_lexer": "ipython2",
   "version": "2.7.13"
  }
 },
 "nbformat": 4,
 "nbformat_minor": 2
}
